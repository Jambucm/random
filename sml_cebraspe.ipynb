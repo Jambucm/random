{
 "cells": [
  {
   "cell_type": "code",
   "execution_count": 1,
   "metadata": {},
   "outputs": [],
   "source": [
    "#Escolha os parâmetros substituindo os valores pelos de sua preferência\n",
    "\n",
    "#Estado de aleatoreidade\n",
    "random = 369\n",
    "\n",
    "#Quantidade de questões\n",
    "questoes = 100\n",
    "\n",
    "#Quantidade de candidatos\n",
    "candidatos = 100000\n",
    "\n",
    "#Porcentagem de questões certas do gabarito\n",
    "certas = 0.5\n",
    "\n",
    "#Porcentagem ou faixa de porcentagem de questões em branco geral\n",
    "branco = [0.1, 0.3]"
   ]
  },
  {
   "cell_type": "code",
   "execution_count": 2,
   "metadata": {},
   "outputs": [],
   "source": [
    "import numpy as np"
   ]
  },
  {
   "cell_type": "code",
   "execution_count": 3,
   "metadata": {},
   "outputs": [],
   "source": [
    "np.random.seed(random)"
   ]
  },
  {
   "cell_type": "code",
   "execution_count": 4,
   "metadata": {},
   "outputs": [],
   "source": [
    "alternativas = ['C', 'E', 'B']\n",
    "gabarito = np.random.choice(alternativas, questoes, p=[certas, 1-certas, 0])"
   ]
  },
  {
   "cell_type": "code",
   "execution_count": 5,
   "metadata": {},
   "outputs": [
    {
     "name": "stdout",
     "output_type": "stream",
     "text": [
      "Tendência de nota por candidato se chutar todas as questões: -0.00521\n"
     ]
    }
   ],
   "source": [
    "candidatos = 100000\n",
    "nota = 0\n",
    "\n",
    "for i in range(candidatos):\n",
    "    em_branco = np.random.uniform(branco[0], branco[1])\n",
    "    chance_c = np.random.uniform(0, 1-em_branco)\n",
    "    chance_e = 1 - em_branco - chance_c\n",
    "    comportamento = [chance_c, chance_e, em_branco]\n",
    "    respostas = np.random.choice(a=alternativas, size=questoes, p=comportamento)\n",
    "    nota_candidato = 0\n",
    "    for j in range(questoes):\n",
    "        if respostas[j] == gabarito[j]:\n",
    "            nota += 1\n",
    "        elif respostas[j] == 'B':\n",
    "            nota += 0\n",
    "        else:\n",
    "            nota -= 1\n",
    "    \n",
    "    nota += nota_candidato\n",
    "\n",
    "print(f'Tendência de nota por candidato se chutar todas as questões: {nota/candidatos}')"
   ]
  }
 ],
 "metadata": {
  "kernelspec": {
   "display_name": "Python 3",
   "language": "python",
   "name": "python3"
  },
  "language_info": {
   "codemirror_mode": {
    "name": "ipython",
    "version": 3
   },
   "file_extension": ".py",
   "mimetype": "text/x-python",
   "name": "python",
   "nbconvert_exporter": "python",
   "pygments_lexer": "ipython3",
   "version": "3.13.2"
  }
 },
 "nbformat": 4,
 "nbformat_minor": 2
}
